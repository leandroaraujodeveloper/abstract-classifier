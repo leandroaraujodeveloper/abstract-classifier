{
 "cells": [
  {
   "cell_type": "markdown",
   "id": "6d441c32-3bee-4c48-96aa-7593c74cb50c",
   "metadata": {},
   "source": [
    "## Classifier of research articles abstract by field\n",
    "The goal of this notebook is to introduce an proof of concept from an automated tagging text data system. The proposed code implements a classifier loading the data scraped from arxiv.org an site of research articles. The Libraries used are pandas, numpy and scikit-learn. "
   ]
  },
  {
   "cell_type": "code",
   "execution_count": 1,
   "id": "c1d16a26-f833-4225-bf9f-0bea2f0debcf",
   "metadata": {},
   "outputs": [],
   "source": [
    "import pandas as pd\n",
    "import numpy as np\n",
    "from sklearn.feature_extraction.text import CountVectorizer\n",
    "from sklearn.model_selection import train_test_split\n",
    "from sklearn.ensemble import RandomForestClassifier\n",
    "from sklearn.metrics import classification_report"
   ]
  },
  {
   "cell_type": "markdown",
   "id": "0776c47c-9dac-4558-8cc8-3d4b123d7c5f",
   "metadata": {},
   "source": [
    "### Step 1\n",
    "First we load the data scraped by site arxiv.org that contains the folowing structure of columns:\n",
    "- abstract\n",
    "    - contains the article abstract \n",
    "- field\n",
    "    - the field obtained into page of the article in arxiv site\n",
    "- search_word\n",
    "    - the specific keyword used to search the articles\n",
    "- title \n",
    "    - contains the article title"
   ]
  },
  {
   "cell_type": "code",
   "execution_count": 2,
   "id": "7f80d830-8629-488d-8cb3-d7b5143d1dae",
   "metadata": {},
   "outputs": [],
   "source": [
    "df = pd.read_csv('arxiv_fields_dataset.csv')"
   ]
  },
  {
   "cell_type": "markdown",
   "id": "381b8d8b-adcf-4d3b-93cd-55eaed4944c4",
   "metadata": {},
   "source": [
    "### Step 2\n",
    "We will analyze the distribution of the data to prepare the data for training and test set."
   ]
  },
  {
   "cell_type": "markdown",
   "id": "53184ba2-bbf1-4b6c-94d7-7b9d698abe59",
   "metadata": {},
   "source": [
    "#### Step 2.1\n",
    "This step is for make an representation of the classes represented by keywords transform this in a number label tagging this is the input format. To do this I create a dict representation and maping the serie of search_words."
   ]
  },
  {
   "cell_type": "code",
   "execution_count": 3,
   "id": "1e7563b7-6c19-44c8-885f-a38aa1e1ff30",
   "metadata": {},
   "outputs": [],
   "source": [
    "keywords = ['recurrent neural networks', 'convolutional neural networks', 'natural language processing', 'reinforcement learning', 'unsupervised learning', 'clustering']\n",
    "category = {}\n",
    "for index, keyword in enumerate(keywords):\n",
    "    category[keyword] = index"
   ]
  },
  {
   "cell_type": "code",
   "execution_count": 4,
   "id": "0b92f62b-90c7-44c8-bf4b-f520addd3da3",
   "metadata": {
    "tags": []
   },
   "outputs": [],
   "source": [
    "df['label'] = df['search_word'].map(category)"
   ]
  },
  {
   "cell_type": "code",
   "execution_count": 5,
   "id": "150e6cdb-4da6-4df1-9457-5f3bb7b7eed0",
   "metadata": {},
   "outputs": [],
   "source": [
    "from matplotlib.ticker import FuncFormatter\n",
    "import matplotlib.pyplot as plt"
   ]
  },
  {
   "cell_type": "markdown",
   "id": "e54cc3d3-ae2c-4504-a35b-b2d9c2145cc3",
   "metadata": {},
   "source": [
    "Now I group the dataset by search_word field. The decision of choose this field is because the search word is a human classify that previously has an intent of read articles about the specific theme, so the acuracy of classifiers is aligned with the search person propose."
   ]
  },
  {
   "cell_type": "code",
   "execution_count": 6,
   "id": "5e9341a3-f4f1-4fb7-a2d7-2200af969331",
   "metadata": {},
   "outputs": [],
   "source": [
    "grouped = df.groupby('search_word').count().label"
   ]
  },
  {
   "cell_type": "markdown",
   "id": "755b5c53-f661-4c81-b321-533f82aa2ab7",
   "metadata": {},
   "source": [
    "In the output above we can see that the classes are balanced that is a good scenario to build a model from this dataset."
   ]
  },
  {
   "cell_type": "code",
   "execution_count": 7,
   "id": "8285ab5b-8e91-4da3-bc07-f0c1a07dd874",
   "metadata": {},
   "outputs": [
    {
     "data": {
      "text/plain": [
       "search_word\n",
       "clustering                       37\n",
       "convolutional neural networks    40\n",
       "natural language processing      40\n",
       "recurrent neural networks        39\n",
       "reinforcement learning           41\n",
       "unsupervised learning            43\n",
       "Name: label, dtype: int64"
      ]
     },
     "execution_count": 7,
     "metadata": {},
     "output_type": "execute_result"
    }
   ],
   "source": [
    "grouped"
   ]
  },
  {
   "cell_type": "markdown",
   "id": "a234d4ef-933d-4dd1-b31b-c4066804c6c6",
   "metadata": {},
   "source": [
    "To easily view we plot a bar graph to show the distribution of the classes. Is important observe this because it can impact in the model performance, unbalanced data can cause more erros and low precision in a model training."
   ]
  },
  {
   "cell_type": "code",
   "execution_count": 8,
   "id": "1cb35317-3892-4808-81ac-8c8effe652cb",
   "metadata": {},
   "outputs": [],
   "source": [
    "x, tag = grouped, grouped.index"
   ]
  },
  {
   "cell_type": "code",
   "execution_count": 9,
   "id": "c2c588b9-bad7-4577-b05d-83dab9a9de4f",
   "metadata": {},
   "outputs": [
    {
     "data": {
      "image/png": "[encoded data removed]",
      "text/plain": [
       "<Figure size 1080x360 with 1 Axes>"
      ]
     },
     "metadata": {
      "needs_background": "light"
     },
     "output_type": "display_data"
    }
   ],
   "source": [
    "fig, ax = plt.subplots(figsize=(15, 5))\n",
    "plt.barh(tag, x)\n",
    "plt.show()"
   ]
  },
  {
   "cell_type": "markdown",
   "id": "7529d1d1-3022-4a75-b57f-c2b77c4b72b7",
   "metadata": {},
   "source": [
    "## Step 3\n",
    "This step I do a split of the train-test dataset where has 80% to train set and 20% to test set."
   ]
  },
  {
   "cell_type": "code",
   "execution_count": 10,
   "id": "5dc83dd3-7d45-48a1-a2b0-7c1b0a4ee2ab",
   "metadata": {},
   "outputs": [],
   "source": [
    "X = df['abstract']\n",
    "y = df['label']\n",
    "cv = CountVectorizer()\n",
    "X = cv.fit_transform(X) \n",
    "X_train, X_test, y_train, y_test = train_test_split(X, y, test_size=0.20, random_state=100)"
   ]
  },
  {
   "cell_type": "markdown",
   "id": "e784ddae-17ee-4e6e-a97f-99dc28490121",
   "metadata": {},
   "source": [
    "## Step 4\n",
    "In this step we train and evaluate the classifier. I choose the RandomForest because the simple problem amd because the size of the dataset, and but this produce great result In this case. We can view the result of the classifier on confusion matrix above. We can observe that in any classes we have high accuracy and this can say for us that model can overfiting."
   ]
  },
  {
   "cell_type": "code",
   "execution_count": 11,
   "id": "2c6e4d0a-753d-4162-9091-e186fa3ffda3",
   "metadata": {},
   "outputs": [
    {
     "name": "stdout",
     "output_type": "stream",
     "text": [
      "              precision    recall  f1-score   support\n",
      "\n",
      "           0       0.80      0.80      0.80         5\n",
      "           1       0.78      0.78      0.78         9\n",
      "           2       1.00      0.78      0.88         9\n",
      "           3       1.00      0.82      0.90        11\n",
      "           4       0.75      0.86      0.80         7\n",
      "           5       0.70      1.00      0.82         7\n",
      "\n",
      "    accuracy                           0.83        48\n",
      "   macro avg       0.84      0.84      0.83        48\n",
      "weighted avg       0.86      0.83      0.84        48\n",
      "\n"
     ]
    }
   ],
   "source": [
    "classifier = RandomForestClassifier(n_estimators=1000, random_state=0)\n",
    "classifier.fit(X_train,y_train)\n",
    "classifier.score(X_test,y_test)\n",
    "y_pred = classifier.predict(X_test)\n",
    "print(classification_report(y_test, y_pred))"
   ]
  },
  {
   "cell_type": "markdown",
   "id": "d32a9a0e-4655-4662-92af-31e48fcd70c5",
   "metadata": {},
   "source": [
    "### Step 5\n",
    "We will predict with real cases out of the dataset of training."
   ]
  },
  {
   "cell_type": "code",
   "execution_count": 12,
   "id": "f3702b5e-5f59-4573-98dc-1fa59d6d15ea",
   "metadata": {},
   "outputs": [],
   "source": [
    "text = \"\"\"In this work, we propose and evaluate a new reinforcement learning method, COMPact Experience Replay (COMPER), which uses temporal difference learning with predicted target values based on recurrence over sets of similar transitions, and a new approach for experience replay based on two transitions memories. Our objective is to reduce the required number of experiences to agent training regarding the total accumulated rewarding in the long run. Its relevance to reinforcement learning is related to the small number of observations that it needs to achieve results similar to that obtained by relevant methods in the literature, that generally demand millions of video frames to train an agent on the Atari 2600 games. We report detailed results from five training trials of COMPER for just 100,000 frames and about 25,000 iterations with a small experiences memory on eight challenging games of Arcade Learning Environment (ALE). We also present results for a DQN agent with the same experimental protocol on the same games set as the baseline. To verify the performance of COMPER on approximating a good policy from a smaller number of observations, we also compare its results with that obtained from millions of frames presented on the benchmark of ALE.\"\"\"\n",
    "text2 = \"\"\"\"Clustering is a fundamental primitive in unsupervised learning which gives rise to a rich class of computationally-challenging inference tasks. In this work, we focus on the canonical task of clustering d-dimensional Gaussian mixtures with unknown (and possibly degenerate) covariance. Recent works (Ghosh et al.\\ '20; Mao, Wein '21; Davis, Diaz, Wang '21) have established lower bounds against the class of low-degree polynomial methods and the sum-of-squares (SoS) hierarchy for recovering certain hidden structures planted in Gaussian clustering instances. Prior work on many similar inference tasks portends that such lower bounds strongly suggest the presence of an inherent statistical-to-computational gap for clustering, that is, a parameter regime where the clustering task is \\textit{statistically} possible but no \\textit{polynomial-time} algorithm succeeds.One special case of the clustering task we consider is equivalent to the problem of finding a planted hypercube vector in an otherwise random subspace. We show that, perhaps surprisingly, this particular clustering model \\textit{does not exhibit} a statistical-to-computational gap, even though the aforementioned low-degree and SoS lower bounds continue to apply in this case. To achieve this, we give a polynomial-time algorithm based on the Lenstra--Lenstra--Lovasz lattice basis reduction method which achieves the statistically-optimal sample complexity of d+1 samples. This result extends the class of problems whose conjectured statistical-to-computational gaps can be \"closed\" by \"brittle\" polynomial-time algorithms, highlighting the crucial but subtle role of noise in the onset of statistical-to-computational gaps.\"\"\""
   ]
  },
  {
   "cell_type": "code",
   "execution_count": 13,
   "id": "85854152-e2c9-4ad6-b31b-f7ffe76fbe0e",
   "metadata": {},
   "outputs": [],
   "source": [
    "text_array = cv.transform([text,text2]).toarray()\n",
    "result = classifier.predict(text_array)"
   ]
  },
  {
   "cell_type": "markdown",
   "id": "3b0579a7-6465-4c8f-9b22-789071ce2076",
   "metadata": {},
   "source": [
    "The results is a text with classifier 3 and 5 and that is good this texts are really about this theme searched and analised previously."
   ]
  },
  {
   "cell_type": "code",
   "execution_count": 14,
   "id": "7791ab53-9928-4660-9caf-3e058defa566",
   "metadata": {},
   "outputs": [
    {
     "name": "stdout",
     "output_type": "stream",
     "text": [
      "[3 5]\n"
     ]
    }
   ],
   "source": [
    "print(result)"
   ]
  },
  {
   "cell_type": "code",
   "execution_count": 15,
   "id": "7d59be8e-d4db-4b2b-8bb8-0bca3a1363b2",
   "metadata": {},
   "outputs": [
    {
     "data": {
      "text/plain": [
       "{'recurrent neural networks': 0,\n",
       " 'convolutional neural networks': 1,\n",
       " 'natural language processing': 2,\n",
       " 'reinforcement learning': 3,\n",
       " 'unsupervised learning': 4,\n",
       " 'clustering': 5}"
      ]
     },
     "execution_count": 15,
     "metadata": {},
     "output_type": "execute_result"
    }
   ],
   "source": [
    "category"
   ]
  }
 ],
 "metadata": {
  "kernelspec": {
   "display_name": "Python 3 (ipykernel)",
   "language": "python",
   "name": "python3"
  },
  "language_info": {
   "codemirror_mode": {
    "name": "ipython",
    "version": 3
   },
   "file_extension": ".py",
   "mimetype": "text/x-python",
   "name": "python",
   "nbconvert_exporter": "python",
   "pygments_lexer": "ipython3",
   "version": "3.9.2"
  }
 },
 "nbformat": 4,
 "nbformat_minor": 5
}
